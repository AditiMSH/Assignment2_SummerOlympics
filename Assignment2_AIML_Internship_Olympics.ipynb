{
 "cells": [
  {
   "cell_type": "code",
   "execution_count": 17,
   "id": "75d1b226",
   "metadata": {},
   "outputs": [],
   "source": [
    "import pandas as pd\n",
    "import numpy as np\n",
    "import matplotlib as plt"
   ]
  },
  {
   "cell_type": "code",
   "execution_count": 18,
   "id": "513e3907",
   "metadata": {},
   "outputs": [],
   "source": [
    "df = pd.read_csv('olympics_data.csv')"
   ]
  },
  {
   "cell_type": "markdown",
   "id": "2362058b",
   "metadata": {},
   "source": [
    "# \"Q1. IN HOW MANY CITIES SUMMER OLYMPICS IS HELD SO FAR? \" ####"
   ]
  },
  {
   "cell_type": "code",
   "execution_count": 19,
   "id": "19f2f6fe",
   "metadata": {},
   "outputs": [
    {
     "name": "stdout",
     "output_type": "stream",
     "text": [
      "*****************\n",
      "  \n",
      "So far the number of cities the summer olympics is held in is :\n",
      "22\n",
      " \n",
      "*****************\n"
     ]
    },
    {
     "data": {
      "text/plain": [
       "<AxesSubplot:xlabel='City'>"
      ]
     },
     "execution_count": 19,
     "metadata": {},
     "output_type": "execute_result"
    },
    {
     "data": {
      "image/png": "[encoded data removed]",
      "text/plain": [
       "<Figure size 360x360 with 1 Axes>"
      ]
     },
     "metadata": {
      "needs_background": "light"
     },
     "output_type": "display_data"
    }
   ],
   "source": [
    "data = []\n",
    "\n",
    "for City in df['City'].unique():\n",
    "    data.append([City , len(df[df['City']  == City])])\n",
    "    \n",
    "print(\"*****************\")\n",
    "print(\"  \")\n",
    "    \n",
    "\n",
    "print(\"So far the number of cities the summer olympics is held in is :\")    \n",
    "print(len(data))  \n",
    "\n",
    "print(\" \")\n",
    "print(\"*****************\")\n",
    "\n",
    "pd.DataFrame(data,columns = ['City','freq']).sort_values(by='freq', ascending=False).head().plot(x = 'City', y = 'freq', kind = 'bar', figsize = (5,5))\n",
    "\n"
   ]
  },
  {
   "cell_type": "code",
   "execution_count": 20,
   "id": "f4e690c4",
   "metadata": {
    "scrolled": true
   },
   "outputs": [
    {
     "data": {
      "text/plain": [
       "[['Athens', 2149],\n",
       " ['Paris', 1396],\n",
       " ['St Louis', 470],\n",
       " ['London', 3567],\n",
       " ['Stockholm', 885],\n",
       " ['Antwerp', 1298],\n",
       " ['Amsterdam', 710],\n",
       " ['Los Angeles', 2074],\n",
       " ['Berlin', 875],\n",
       " ['Helsinki', 889],\n",
       " ['Melbourne / Stockholm', 885],\n",
       " ['Rome', 882],\n",
       " ['Tokyo', 1010],\n",
       " ['Mexico', 1031],\n",
       " ['Munich', 1185],\n",
       " ['Montreal', 1305],\n",
       " ['Moscow', 1387],\n",
       " ['Seoul', 1546],\n",
       " ['Barcelona', 1705],\n",
       " ['Atlanta', 1859],\n",
       " ['Sydney', 2015],\n",
       " ['Beijing', 2042]]"
      ]
     },
     "execution_count": 20,
     "metadata": {},
     "output_type": "execute_result"
    }
   ],
   "source": [
    "data"
   ]
  },
  {
   "cell_type": "markdown",
   "id": "aaa75e83",
   "metadata": {},
   "source": [
    "#### \"Q2. Which sport is having most number of Gold Medals so far?\" ####"
   ]
  },
  {
   "cell_type": "code",
   "execution_count": 22,
   "id": "92e28ca1",
   "metadata": {},
   "outputs": [
    {
     "name": "stdout",
     "output_type": "stream",
     "text": [
      "*********************************************\n",
      "The sport with most number of gold medals is:\n",
      "************\n"
     ]
    },
    {
     "data": {
      "image/png": "[encoded data removed]",
      "text/plain": [
       "<Figure size 360x360 with 1 Axes>"
      ]
     },
     "metadata": {
      "needs_background": "light"
     },
     "output_type": "display_data"
    }
   ],
   "source": [
    "data = []\n",
    "\n",
    "ng = df.loc[df['Medal']=='Gold']\n",
    "\n",
    "\n",
    "for Sport in ng['Sport'].unique():\n",
    "    data.append([Sport , len(ng[ng['Sport']  == Sport])])\n",
    "    \n",
    "pd.DataFrame(data,columns = ['Sport','freq']).sort_values(by='freq', ascending=False).head().plot(x = 'Sport', y = 'freq', kind = 'bar', figsize = (5,5))\n",
    "\n",
    "print(\"*********************************************\")\n",
    "\n",
    "print(\"The sport with most number of gold medals is:\")\n",
    "\n",
    "\n",
    "\n",
    "print(\"************\")\n",
    "\n",
    "\n"
   ]
  },
  {
   "cell_type": "markdown",
   "id": "4111dd5c",
   "metadata": {},
   "source": [
    "## Q3. Which sport is having most number of medals so far? (Top 5) ##"
   ]
  },
  {
   "cell_type": "code",
   "execution_count": 24,
   "id": "52419883",
   "metadata": {},
   "outputs": [
    {
     "name": "stdout",
     "output_type": "stream",
     "text": [
      "*****************\n",
      "  \n",
      "The sport having most number of medals is:\n",
      " \n",
      "*****************\n"
     ]
    },
    {
     "data": {
      "text/plain": [
       "<AxesSubplot:xlabel='Sport'>"
      ]
     },
     "execution_count": 24,
     "metadata": {},
     "output_type": "execute_result"
    },
    {
     "data": {
      "image/png": "[encoded data removed]",
      "text/plain": [
       "<Figure size 360x360 with 1 Axes>"
      ]
     },
     "metadata": {
      "needs_background": "light"
     },
     "output_type": "display_data"
    }
   ],
   "source": [
    "data = []\n",
    "\n",
    "for Sport in df['Sport'].unique():\n",
    "    data.append([ Sport , len(df[df['Sport']  == Sport])])\n",
    "    \n",
    "print(\"*****************\")\n",
    "print(\"  \")\n",
    "\n",
    "print(\"The sport having most number of medals is:\")\n",
    "   \n",
    "\n",
    "\n",
    "\n",
    "print(\" \")\n",
    "print(\"*****************\")\n",
    "\n",
    "pd.DataFrame(data,columns = ['Sport','freq']).sort_values(by='freq', ascending=False).head().plot(x = 'Sport', y = 'freq', kind = 'bar', figsize = (5,5))\n",
    "\n",
    "    "
   ]
  },
  {
   "cell_type": "markdown",
   "id": "9dda2dc1",
   "metadata": {},
   "source": [
    "## 4. Which player has won most number of medals? (Top 5) ##"
   ]
  },
  {
   "cell_type": "code",
   "execution_count": 25,
   "id": "68140d5c",
   "metadata": {},
   "outputs": [
    {
     "name": "stdout",
     "output_type": "stream",
     "text": [
      "*****************\n",
      "  \n",
      "The Athlete having most number of medals is:\n",
      " \n",
      "*****************\n"
     ]
    },
    {
     "data": {
      "image/png": "[encoded data removed]",
      "text/plain": [
       "<Figure size 360x360 with 1 Axes>"
      ]
     },
     "metadata": {
      "needs_background": "light"
     },
     "output_type": "display_data"
    }
   ],
   "source": [
    "data = []\n",
    "\n",
    "for Athlete in df['Athlete'].unique():\n",
    "    data.append([ Athlete, len(df[df['Athlete']  == Athlete])])\n",
    "    \n",
    "\n",
    "pd.DataFrame(data,columns = ['Athlete','freq']).sort_values(by='freq', ascending=False).head().plot(x = 'Athlete', y = 'freq', kind = 'bar', figsize = (5,5))\n",
    "\n",
    "print(\"*****************\")\n",
    "print(\"  \")\n",
    "\n",
    "print(\"The Athlete having most number of medals is:\")\n",
    "\n",
    "   \n",
    "print(\" \")\n",
    "print(\"*****************\")\n",
    "\n",
    "        \n",
    "    "
   ]
  },
  {
   "cell_type": "markdown",
   "id": "f9962123",
   "metadata": {},
   "source": [
    "## 5. Which player has won most number Gold Medals of medals? (Top 5)##"
   ]
  },
  {
   "cell_type": "code",
   "execution_count": 26,
   "id": "8ab674c7",
   "metadata": {},
   "outputs": [
    {
     "name": "stdout",
     "output_type": "stream",
     "text": [
      "*****************\n",
      "  \n",
      "The Athlete having most number of gold medals is:\n",
      " \n",
      "*****************\n"
     ]
    },
    {
     "data": {
      "text/plain": [
       "<AxesSubplot:xlabel='Athlete'>"
      ]
     },
     "execution_count": 26,
     "metadata": {},
     "output_type": "execute_result"
    },
    {
     "data": {
      "image/png": "[encoded data removed]",
      "text/plain": [
       "<Figure size 360x360 with 1 Axes>"
      ]
     },
     "metadata": {
      "needs_background": "light"
     },
     "output_type": "display_data"
    }
   ],
   "source": [
    "nbg = df.loc[df['Medal']=='Gold']\n",
    "\n",
    "data = []\n",
    "\n",
    "for Athlete in nbg['Athlete'].unique():\n",
    "    data.append([ Athlete, len(nbg[nbg['Athlete']  == Athlete])])\n",
    "    \n",
    "print(\"*****************\")\n",
    "print(\"  \")\n",
    "\n",
    "print(\"The Athlete having most number of gold medals is:\")\n",
    "   \n",
    "print(\" \")\n",
    "print(\"*****************\")\n",
    "\n",
    "pd.DataFrame(data,columns = ['Athlete','freq']).sort_values(by='freq', ascending=False).head().plot(x = 'Athlete', y = 'freq', kind = 'bar', figsize = (5,5))\n",
    "\n",
    "        \n",
    "    \n",
    "\n"
   ]
  },
  {
   "cell_type": "markdown",
   "id": "19e1919b",
   "metadata": {},
   "source": [
    "## 6. In which year India won first Gold Medal in Summer Olympics?##"
   ]
  },
  {
   "cell_type": "code",
   "execution_count": 45,
   "id": "191de911",
   "metadata": {},
   "outputs": [
    {
     "name": "stdout",
     "output_type": "stream",
     "text": [
      "*************\n",
      "India won its first summer olympics gold medal in the year:\n",
      "1928\n",
      "**********\n",
      "      Year       City   Sport Discipline               Athlete Country Gender  \\\n",
      "5512  1928  Amsterdam  Hockey     Hockey  ALLEN, Richard James     IND    Men   \n",
      "\n",
      "       Event Medal  \n",
      "5512  Hockey  Gold  \n"
     ]
    }
   ],
   "source": [
    "fi = df.loc[(df['Country']=='IND') & (df['Medal']=='Gold')]\n",
    "\n",
    "\n",
    "\n",
    "print(\"*************\")\n",
    "\n",
    "print(\"India won its first summer olympics gold medal in the year:\")\n",
    "print(fi.iloc[1,0])\n",
    "\n",
    "print(\"**********\")\n",
    "\n",
    "print(fi.head(1))\n",
    "\n"
   ]
  },
  {
   "cell_type": "markdown",
   "id": "fce078af",
   "metadata": {},
   "source": [
    "## 7. Which event is most popular in terms on number of players? (Top 5) ##"
   ]
  },
  {
   "cell_type": "code",
   "execution_count": 50,
   "id": "cd4d5932",
   "metadata": {},
   "outputs": [
    {
     "name": "stdout",
     "output_type": "stream",
     "text": [
      "*****************\n",
      "  \n",
      "The event which is most popular is:\n",
      " \n",
      "*****************\n"
     ]
    },
    {
     "data": {
      "text/plain": [
       "<AxesSubplot:xlabel='Event'>"
      ]
     },
     "execution_count": 50,
     "metadata": {},
     "output_type": "execute_result"
    },
    {
     "data": {
      "image/png": "[encoded data removed]",
      "text/plain": [
       "<Figure size 360x360 with 1 Axes>"
      ]
     },
     "metadata": {
      "needs_background": "light"
     },
     "output_type": "display_data"
    }
   ],
   "source": [
    "data = []\n",
    "\n",
    "for Event in df['Event'].unique():\n",
    "    data.append([ Event , len(df[df['Event']  == Event ])])\n",
    "    \n",
    "print(\"*****************\")\n",
    "print(\"  \")\n",
    "\n",
    "print(\"The event which is most popular is:\")\n",
    "    \n",
    "\n",
    "\n",
    "\n",
    "print(\" \")\n",
    "print(\"*****************\")\n",
    "\n",
    "pd.DataFrame(data,columns = ['Event','freq']).sort_values(by='freq', ascending=False).head().plot(x = 'Event', y = 'freq', kind = 'bar', figsize = (5,5))\n",
    "\n",
    "    \n",
    "    \n",
    "    "
   ]
  },
  {
   "cell_type": "markdown",
   "id": "fef045df",
   "metadata": {},
   "source": [
    "# 8. Which sport is having most female Gold Medalists? (Top 5)##"
   ]
  },
  {
   "cell_type": "code",
   "execution_count": 51,
   "id": "2e609959",
   "metadata": {},
   "outputs": [
    {
     "name": "stdout",
     "output_type": "stream",
     "text": [
      "*****************\n",
      "  \n",
      "The Sport having most number of female gold medalists is:\n",
      " \n",
      "*****************\n"
     ]
    },
    {
     "data": {
      "text/plain": [
       "<AxesSubplot:xlabel='Athlete'>"
      ]
     },
     "execution_count": 51,
     "metadata": {},
     "output_type": "execute_result"
    },
    {
     "data": {
      "image/png": "[encoded data removed]",
      "text/plain": [
       "<Figure size 360x360 with 1 Axes>"
      ]
     },
     "metadata": {
      "needs_background": "light"
     },
     "output_type": "display_data"
    }
   ],
   "source": [
    "nna = df.loc[(df['Medal']=='Gold') & (df['Gender']=='Women')]\n",
    "\n",
    "data = []\n",
    "\n",
    "for Sport in nna['Sport'].unique():\n",
    "    data.append([ Sport, len(nna[nna['Sport']  == Sport])])\n",
    "    \n",
    "print(\"*****************\")\n",
    "print(\"  \")\n",
    "\n",
    "print(\"The Sport having most number of female gold medalists is:\")\n",
    "   \n",
    "print(\" \")\n",
    "print(\"*****************\")\n",
    "\n",
    "pd.DataFrame(data,columns = ['Athlete','freq']).sort_values(by='freq', ascending=False).head().plot(x = 'Athlete', y = 'freq', kind = 'bar', figsize = (5,5))\n",
    "\n",
    "        \n",
    "    \n",
    "\n",
    "\n",
    "\n"
   ]
  },
  {
   "cell_type": "code",
   "execution_count": null,
   "id": "37c60f49",
   "metadata": {},
   "outputs": [],
   "source": []
  }
 ],
 "metadata": {
  "kernelspec": {
   "display_name": "Python 3",
   "language": "python",
   "name": "python3"
  },
  "language_info": {
   "codemirror_mode": {
    "name": "ipython",
    "version": 3
   },
   "file_extension": ".py",
   "mimetype": "text/x-python",
   "name": "python",
   "nbconvert_exporter": "python",
   "pygments_lexer": "ipython3",
   "version": "3.8.8"
  }
 },
 "nbformat": 4,
 "nbformat_minor": 5
}
